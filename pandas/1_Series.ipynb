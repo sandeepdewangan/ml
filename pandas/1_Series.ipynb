{
 "cells": [
  {
   "cell_type": "markdown",
   "id": "abc576f9-e5a6-4811-9abe-c6bc5e41b514",
   "metadata": {},
   "source": [
    "# Series"
   ]
  },
  {
   "cell_type": "code",
   "execution_count": 1,
   "id": "04f55c8a-5e90-457a-ad0e-e867e892e9ab",
   "metadata": {},
   "outputs": [],
   "source": [
    "import pandas as pd"
   ]
  },
  {
   "cell_type": "markdown",
   "id": "4592017d-ac05-423e-b6a1-db486cf2e045",
   "metadata": {},
   "source": [
    "### Creating Series using Lists"
   ]
  },
  {
   "cell_type": "code",
   "execution_count": 3,
   "id": "02ee7202-ac58-4328-ba0a-29f3665f141a",
   "metadata": {},
   "outputs": [
    {
     "data": {
      "text/plain": [
       "0    Chocholate\n",
       "1        Valina\n",
       "2    Strawberry\n",
       "3           Rum\n",
       "dtype: object"
      ]
     },
     "execution_count": 3,
     "metadata": {},
     "output_type": "execute_result"
    }
   ],
   "source": [
    "ice_cream = [\"Chocholate\", \"Valina\", \"Strawberry\", \"Rum\"]\n",
    "pd.Series(ice_cream)"
   ]
  },
  {
   "cell_type": "code",
   "execution_count": 4,
   "id": "bf465e71-030a-4ca1-b736-4b53a911905e",
   "metadata": {},
   "outputs": [
    {
     "data": {
      "text/plain": [
       "0     4\n",
       "1     8\n",
       "2    15\n",
       "3    16\n",
       "4    23\n",
       "5    42\n",
       "dtype: int64"
      ]
     },
     "execution_count": 4,
     "metadata": {},
     "output_type": "execute_result"
    }
   ],
   "source": [
    "lottery = [4,8,15,16,23,42]\n",
    "pd.Series(lottery)"
   ]
  },
  {
   "cell_type": "markdown",
   "id": "bb919dab-5885-4c3e-be25-940d272a3755",
   "metadata": {},
   "source": [
    "### Creating Series using Dictionary"
   ]
  },
  {
   "cell_type": "code",
   "execution_count": 6,
   "id": "41707d5e-0090-4590-8e7f-3a41018dbcee",
   "metadata": {},
   "outputs": [
    {
     "data": {
      "text/plain": [
       "Tomato     Tamatar\n",
       "Potato        Aalu\n",
       "Brinjal      Bhata\n",
       "dtype: object"
      ]
     },
     "execution_count": 6,
     "metadata": {},
     "output_type": "execute_result"
    }
   ],
   "source": [
    "food = {\n",
    "    \"Tomato\": \"Tamatar\",\n",
    "    \"Potato\": \"Aalu\",\n",
    "    \"Brinjal\": \"Bhata\"\n",
    "}\n",
    "pd.Series(food)"
   ]
  },
  {
   "cell_type": "markdown",
   "id": "71f2f4eb-0be1-448d-8a2f-3b727e2cace0",
   "metadata": {},
   "source": [
    "### Methods"
   ]
  },
  {
   "cell_type": "code",
   "execution_count": 8,
   "id": "c0ca482e-90c1-46a7-b87c-368a6ce8b73e",
   "metadata": {},
   "outputs": [
    {
     "data": {
      "text/plain": [
       "'HELLO'"
      ]
     },
     "execution_count": 8,
     "metadata": {},
     "output_type": "execute_result"
    }
   ],
   "source": [
    "\"hello\".upper() # donot mutates"
   ]
  },
  {
   "cell_type": "code",
   "execution_count": 10,
   "id": "240b4e15-fc07-4e0d-8051-973776b7f6d0",
   "metadata": {},
   "outputs": [
    {
     "data": {
      "text/plain": [
       "[1, 2, 3, 4]"
      ]
     },
     "execution_count": 10,
     "metadata": {},
     "output_type": "execute_result"
    }
   ],
   "source": [
    "data = [1,2,3]\n",
    "data.append(4) # mutates\n",
    "data"
   ]
  },
  {
   "cell_type": "code",
   "execution_count": 11,
   "id": "f2c62ee5-abcc-45ad-95a8-0e12ddeb4b34",
   "metadata": {},
   "outputs": [
    {
     "data": {
      "text/plain": [
       "0    2.5\n",
       "1    3.5\n",
       "2    3.3\n",
       "dtype: float64"
      ]
     },
     "execution_count": 11,
     "metadata": {},
     "output_type": "execute_result"
    }
   ],
   "source": [
    "prices = pd.Series([2.5, 3.5, 3.3])\n",
    "prices"
   ]
  },
  {
   "cell_type": "code",
   "execution_count": 12,
   "id": "79982fce-2325-4425-b83d-7c4ff1104007",
   "metadata": {},
   "outputs": [
    {
     "data": {
      "text/plain": [
       "9.3"
      ]
     },
     "execution_count": 12,
     "metadata": {},
     "output_type": "execute_result"
    }
   ],
   "source": [
    "prices.sum()"
   ]
  },
  {
   "cell_type": "code",
   "execution_count": 13,
   "id": "422ee5a6-ba4a-44e8-a65b-74cc5512a9b7",
   "metadata": {},
   "outputs": [
    {
     "data": {
      "text/plain": [
       "28.875"
      ]
     },
     "execution_count": 13,
     "metadata": {},
     "output_type": "execute_result"
    }
   ],
   "source": [
    "prices.product()"
   ]
  },
  {
   "cell_type": "code",
   "execution_count": 14,
   "id": "f46f85d9-a38a-4419-afa7-b72a973789f5",
   "metadata": {},
   "outputs": [
    {
     "data": {
      "text/plain": [
       "3.1"
      ]
     },
     "execution_count": 14,
     "metadata": {},
     "output_type": "execute_result"
    }
   ],
   "source": [
    "prices.mean()"
   ]
  },
  {
   "cell_type": "markdown",
   "id": "74ce576f-096d-4f6d-bddc-2707855a32ac",
   "metadata": {},
   "source": [
    "### Atrributes"
   ]
  },
  {
   "cell_type": "code",
   "execution_count": 15,
   "id": "82471a7d-5ee7-4c54-8754-dd7bfcbddf80",
   "metadata": {},
   "outputs": [
    {
     "data": {
      "text/plain": [
       "0          Smart\n",
       "1    Intelligent\n",
       "2         Humble\n",
       "3      Brilliant\n",
       "dtype: object"
      ]
     },
     "execution_count": 15,
     "metadata": {},
     "output_type": "execute_result"
    }
   ],
   "source": [
    "adjectives = pd.Series([\"Smart\", \"Intelligent\", \"Humble\", \"Brilliant\"])\n",
    "adjectives"
   ]
  },
  {
   "cell_type": "code",
   "execution_count": 16,
   "id": "33fa03d2-e6cc-4ce8-aeda-eebd7e123c91",
   "metadata": {},
   "outputs": [
    {
     "data": {
      "text/plain": [
       "4"
      ]
     },
     "execution_count": 16,
     "metadata": {},
     "output_type": "execute_result"
    }
   ],
   "source": [
    "adjectives.size"
   ]
  },
  {
   "cell_type": "code",
   "execution_count": 17,
   "id": "1d99e962-6676-4893-b81b-c78361bce0ef",
   "metadata": {},
   "outputs": [
    {
     "data": {
      "text/plain": [
       "True"
      ]
     },
     "execution_count": 17,
     "metadata": {},
     "output_type": "execute_result"
    }
   ],
   "source": [
    "adjectives.is_unique"
   ]
  },
  {
   "cell_type": "code",
   "execution_count": 20,
   "id": "154a294f-0f1e-47a4-bc3d-874c0f78c9b2",
   "metadata": {},
   "outputs": [
    {
     "data": {
      "text/plain": [
       "array(['Smart', 'Intelligent', 'Humble', 'Brilliant'], dtype=object)"
      ]
     },
     "execution_count": 20,
     "metadata": {},
     "output_type": "execute_result"
    }
   ],
   "source": [
    "# returns as numpy array\n",
    "adjectives.values"
   ]
  },
  {
   "cell_type": "code",
   "execution_count": 25,
   "id": "8887d4d2-d60b-4fa9-8769-c43dc5afa445",
   "metadata": {},
   "outputs": [
    {
     "data": {
      "text/plain": [
       "numpy.ndarray"
      ]
     },
     "execution_count": 25,
     "metadata": {},
     "output_type": "execute_result"
    }
   ],
   "source": [
    "type(adjectives.values)"
   ]
  },
  {
   "cell_type": "code",
   "execution_count": 26,
   "id": "96312904-2580-4653-8cbf-6d0f886c15b8",
   "metadata": {},
   "outputs": [
    {
     "data": {
      "text/plain": [
       "RangeIndex(start=0, stop=4, step=1)"
      ]
     },
     "execution_count": 26,
     "metadata": {},
     "output_type": "execute_result"
    }
   ],
   "source": [
    "adjectives.index"
   ]
  },
  {
   "cell_type": "code",
   "execution_count": 29,
   "id": "71fe29e6-8a2b-4c7c-9543-c42b89410f72",
   "metadata": {},
   "outputs": [
    {
     "data": {
      "text/plain": [
       "dtype('O')"
      ]
     },
     "execution_count": 29,
     "metadata": {},
     "output_type": "execute_result"
    }
   ],
   "source": [
    "adjectives.dtype"
   ]
  },
  {
   "cell_type": "markdown",
   "id": "409b10c8-59a2-4f3a-98c2-f021b1502efc",
   "metadata": {},
   "source": [
    "### Parameters and Arguments"
   ]
  },
  {
   "cell_type": "code",
   "execution_count": 32,
   "id": "226016f1-9675-4b44-b96d-b82ed73fe686",
   "metadata": {},
   "outputs": [
    {
     "data": {
      "text/plain": [
       "Monday           Apple\n",
       "Tuesday      Pineapple\n",
       "Wednesday       Banana\n",
       "Thusday         Vanila\n",
       "Friday           Pears\n",
       "dtype: object"
      ]
     },
     "execution_count": 32,
     "metadata": {},
     "output_type": "execute_result"
    }
   ],
   "source": [
    "fruits = [\"Apple\", \"Pineapple\", \"Banana\", \"Vanila\", \"Pears\"]\n",
    "weekdays = [\"Monday\", \"Tuesday\", \"Wednesday\", \"Thusday\", \"Friday\"]\n",
    "pd.Series(data=fruits, index=weekdays)"
   ]
  },
  {
   "cell_type": "markdown",
   "id": "6c1770ce-8628-4a1c-8a91-c02a90539d7b",
   "metadata": {},
   "source": [
    "### Import Series with the pd.read_csv Function"
   ]
  },
  {
   "cell_type": "code",
   "execution_count": 2,
   "id": "1f725e72-17a2-44c5-aba9-4b8bc5a3df7e",
   "metadata": {},
   "outputs": [
    {
     "data": {
      "text/html": [
       "<div>\n",
       "<style scoped>\n",
       "    .dataframe tbody tr th:only-of-type {\n",
       "        vertical-align: middle;\n",
       "    }\n",
       "\n",
       "    .dataframe tbody tr th {\n",
       "        vertical-align: top;\n",
       "    }\n",
       "\n",
       "    .dataframe thead th {\n",
       "        text-align: right;\n",
       "    }\n",
       "</style>\n",
       "<table border=\"1\" class=\"dataframe\">\n",
       "  <thead>\n",
       "    <tr style=\"text-align: right;\">\n",
       "      <th></th>\n",
       "      <th>Pokemon</th>\n",
       "      <th>Type</th>\n",
       "    </tr>\n",
       "  </thead>\n",
       "  <tbody>\n",
       "    <tr>\n",
       "      <th>0</th>\n",
       "      <td>Bulbasaur</td>\n",
       "      <td>Grass</td>\n",
       "    </tr>\n",
       "    <tr>\n",
       "      <th>1</th>\n",
       "      <td>Ivysaur</td>\n",
       "      <td>Grass</td>\n",
       "    </tr>\n",
       "    <tr>\n",
       "      <th>2</th>\n",
       "      <td>Venusaur</td>\n",
       "      <td>Grass</td>\n",
       "    </tr>\n",
       "    <tr>\n",
       "      <th>3</th>\n",
       "      <td>Charmander</td>\n",
       "      <td>Fire</td>\n",
       "    </tr>\n",
       "    <tr>\n",
       "      <th>4</th>\n",
       "      <td>Charmeleon</td>\n",
       "      <td>Fire</td>\n",
       "    </tr>\n",
       "    <tr>\n",
       "      <th>...</th>\n",
       "      <td>...</td>\n",
       "      <td>...</td>\n",
       "    </tr>\n",
       "    <tr>\n",
       "      <th>716</th>\n",
       "      <td>Yveltal</td>\n",
       "      <td>Dark</td>\n",
       "    </tr>\n",
       "    <tr>\n",
       "      <th>717</th>\n",
       "      <td>Zygarde</td>\n",
       "      <td>Dragon</td>\n",
       "    </tr>\n",
       "    <tr>\n",
       "      <th>718</th>\n",
       "      <td>Diancie</td>\n",
       "      <td>Rock</td>\n",
       "    </tr>\n",
       "    <tr>\n",
       "      <th>719</th>\n",
       "      <td>Hoopa</td>\n",
       "      <td>Psychic</td>\n",
       "    </tr>\n",
       "    <tr>\n",
       "      <th>720</th>\n",
       "      <td>Volcanion</td>\n",
       "      <td>Fire</td>\n",
       "    </tr>\n",
       "  </tbody>\n",
       "</table>\n",
       "<p>721 rows × 2 columns</p>\n",
       "</div>"
      ],
      "text/plain": [
       "        Pokemon     Type\n",
       "0     Bulbasaur    Grass\n",
       "1       Ivysaur    Grass\n",
       "2      Venusaur    Grass\n",
       "3    Charmander     Fire\n",
       "4    Charmeleon     Fire\n",
       "..          ...      ...\n",
       "716     Yveltal     Dark\n",
       "717     Zygarde   Dragon\n",
       "718     Diancie     Rock\n",
       "719       Hoopa  Psychic\n",
       "720   Volcanion     Fire\n",
       "\n",
       "[721 rows x 2 columns]"
      ]
     },
     "execution_count": 2,
     "metadata": {},
     "output_type": "execute_result"
    }
   ],
   "source": [
    "pd.read_csv(\"datasets\\pokemon.csv\")"
   ]
  },
  {
   "cell_type": "code",
   "execution_count": 8,
   "id": "2ba5929c-3af4-4aa9-89c3-a84afb6fb76c",
   "metadata": {},
   "outputs": [
    {
     "data": {
      "text/plain": [
       "0       Bulbasaur\n",
       "1         Ivysaur\n",
       "2        Venusaur\n",
       "3      Charmander\n",
       "4      Charmeleon\n",
       "          ...    \n",
       "716       Yveltal\n",
       "717       Zygarde\n",
       "718       Diancie\n",
       "719         Hoopa\n",
       "720     Volcanion\n",
       "Name: Pokemon, Length: 721, dtype: object"
      ]
     },
     "execution_count": 8,
     "metadata": {},
     "output_type": "execute_result"
    }
   ],
   "source": [
    "# squeeze will convert csv into Series\n",
    "pokemon = pd.read_csv(\"datasets\\pokemon.csv\", usecols=[\"Pokemon\"]).squeeze() \n",
    "pokemon"
   ]
  },
  {
   "cell_type": "markdown",
   "id": "a2e1e8a5-007f-43b7-b528-d0094dcf629d",
   "metadata": {},
   "source": [
    "### Head and Tail"
   ]
  },
  {
   "cell_type": "code",
   "execution_count": 9,
   "id": "d65651e8-f877-4b84-8118-304cf1681fc3",
   "metadata": {},
   "outputs": [
    {
     "data": {
      "text/plain": [
       "0     Bulbasaur\n",
       "1       Ivysaur\n",
       "2      Venusaur\n",
       "3    Charmander\n",
       "4    Charmeleon\n",
       "Name: Pokemon, dtype: object"
      ]
     },
     "execution_count": 9,
     "metadata": {},
     "output_type": "execute_result"
    }
   ],
   "source": [
    "pokemon.head()"
   ]
  },
  {
   "cell_type": "code",
   "execution_count": 10,
   "id": "ff17f9df-2702-4706-9f44-78086c8a77de",
   "metadata": {},
   "outputs": [
    {
     "data": {
      "text/plain": [
       "0     Bulbasaur\n",
       "1       Ivysaur\n",
       "2      Venusaur\n",
       "3    Charmander\n",
       "4    Charmeleon\n",
       "5     Charizard\n",
       "6      Squirtle\n",
       "7     Wartortle\n",
       "8     Blastoise\n",
       "9      Caterpie\n",
       "Name: Pokemon, dtype: object"
      ]
     },
     "execution_count": 10,
     "metadata": {},
     "output_type": "execute_result"
    }
   ],
   "source": [
    "pokemon.head(10)"
   ]
  },
  {
   "cell_type": "code",
   "execution_count": 11,
   "id": "50ffab84-fdaf-49b4-97a7-e2d585296632",
   "metadata": {},
   "outputs": [
    {
     "data": {
      "text/plain": [
       "716      Yveltal\n",
       "717      Zygarde\n",
       "718      Diancie\n",
       "719        Hoopa\n",
       "720    Volcanion\n",
       "Name: Pokemon, dtype: object"
      ]
     },
     "execution_count": 11,
     "metadata": {},
     "output_type": "execute_result"
    }
   ],
   "source": [
    "pokemon.tail()"
   ]
  },
  {
   "cell_type": "markdown",
   "id": "b3bc57cc-71ee-4cde-8628-959487ffe28c",
   "metadata": {},
   "source": [
    "### Passing Series to Python Functions"
   ]
  },
  {
   "cell_type": "code",
   "execution_count": 12,
   "id": "856e730e-4c4f-4785-aa28-06554bc54b9c",
   "metadata": {},
   "outputs": [],
   "source": [
    "pokemon = pd.read_csv(\"datasets\\pokemon.csv\", usecols=[\"Pokemon\"]).squeeze() "
   ]
  },
  {
   "cell_type": "code",
   "execution_count": 13,
   "id": "893c39f5-7dde-4f67-8bc1-c60ffa68ed56",
   "metadata": {},
   "outputs": [
    {
     "data": {
      "text/plain": [
       "pandas.core.series.Series"
      ]
     },
     "execution_count": 13,
     "metadata": {},
     "output_type": "execute_result"
    }
   ],
   "source": [
    "type(pokemon)"
   ]
  },
  {
   "cell_type": "code",
   "execution_count": 18,
   "id": "4ab6b64c-1c83-40e2-abb0-cc235c024357",
   "metadata": {},
   "outputs": [],
   "source": [
    "# List of all operations that can be performed\n",
    "# dir(pokemon)"
   ]
  },
  {
   "cell_type": "code",
   "execution_count": 22,
   "id": "fd82fa81-a73d-4ffe-ae37-0557094cae6d",
   "metadata": {},
   "outputs": [],
   "source": [
    "# Sorting\n",
    "# sorted(pokemon)"
   ]
  },
  {
   "cell_type": "code",
   "execution_count": 23,
   "id": "c024b62d-81d0-4019-b225-5129d2f6e5e2",
   "metadata": {},
   "outputs": [
    {
     "data": {
      "text/plain": [
       "0       Bulbasaur\n",
       "1         Ivysaur\n",
       "2        Venusaur\n",
       "3      Charmander\n",
       "4      Charmeleon\n",
       "          ...    \n",
       "716       Yveltal\n",
       "717       Zygarde\n",
       "718       Diancie\n",
       "719         Hoopa\n",
       "720     Volcanion\n",
       "Name: Pokemon, Length: 721, dtype: object"
      ]
     },
     "execution_count": 23,
     "metadata": {},
     "output_type": "execute_result"
    }
   ],
   "source": [
    "pokemon"
   ]
  },
  {
   "cell_type": "code",
   "execution_count": 24,
   "id": "4d3822bf-726e-4c11-abf8-c2d40668f56c",
   "metadata": {},
   "outputs": [
    {
     "data": {
      "text/plain": [
       "459    Abomasnow\n",
       "62          Abra\n",
       "358        Absol\n",
       "616     Accelgor\n",
       "680    Aegislash\n",
       "         ...    \n",
       "570      Zoroark\n",
       "569        Zorua\n",
       "40         Zubat\n",
       "633     Zweilous\n",
       "717      Zygarde\n",
       "Name: Pokemon, Length: 721, dtype: object"
      ]
     },
     "execution_count": 24,
     "metadata": {},
     "output_type": "execute_result"
    }
   ],
   "source": [
    "# Sorting Series without changing type of output\n",
    "pokemon.sort_values()"
   ]
  },
  {
   "cell_type": "code",
   "execution_count": 29,
   "id": "8ae161a1-7050-449c-85a7-289104c67d54",
   "metadata": {},
   "outputs": [
    {
     "data": {
      "text/plain": [
       "Pokemon\n",
       "Bulbasaur       Grass\n",
       "Ivysaur         Grass\n",
       "Venusaur        Grass\n",
       "Charmander       Fire\n",
       "Charmeleon       Fire\n",
       "               ...   \n",
       "Yveltal          Dark\n",
       "Zygarde        Dragon\n",
       "Diancie          Rock\n",
       "Hoopa         Psychic\n",
       "Volcanion        Fire\n",
       "Name: Type, Length: 721, dtype: object"
      ]
     },
     "execution_count": 29,
     "metadata": {},
     "output_type": "execute_result"
    }
   ],
   "source": [
    "# Creating series with index_col\n",
    "pokemon = pd.read_csv(\"datasets\\pokemon.csv\", index_col=\"Pokemon\").squeeze()\n",
    "pokemon"
   ]
  },
  {
   "cell_type": "code",
   "execution_count": 30,
   "id": "434b1fd3-272a-4f46-8ad8-10b7498bf3b4",
   "metadata": {},
   "outputs": [
    {
     "data": {
      "text/plain": [
       "Pokemon\n",
       "Abomasnow      Grass\n",
       "Abra         Psychic\n",
       "Absol           Dark\n",
       "Accelgor         Bug\n",
       "Aegislash      Steel\n",
       "              ...   \n",
       "Zoroark         Dark\n",
       "Zorua           Dark\n",
       "Zubat         Poison\n",
       "Zweilous        Dark\n",
       "Zygarde       Dragon\n",
       "Name: Type, Length: 721, dtype: object"
      ]
     },
     "execution_count": 30,
     "metadata": {},
     "output_type": "execute_result"
    }
   ],
   "source": [
    "# sort by index\n",
    "pokemon.sort_index()"
   ]
  },
  {
   "cell_type": "markdown",
   "id": "dfe880ed-5711-436b-a829-c6809b28d606",
   "metadata": {},
   "source": [
    "### Inclusion - check for a value exists or not"
   ]
  },
  {
   "cell_type": "code",
   "execution_count": 32,
   "id": "74ca660b-fe27-4576-8b3b-fef8050fc88c",
   "metadata": {},
   "outputs": [
    {
     "data": {
      "text/plain": [
       "0       Bulbasaur\n",
       "1         Ivysaur\n",
       "2        Venusaur\n",
       "3      Charmander\n",
       "4      Charmeleon\n",
       "          ...    \n",
       "716       Yveltal\n",
       "717       Zygarde\n",
       "718       Diancie\n",
       "719         Hoopa\n",
       "720     Volcanion\n",
       "Name: Pokemon, Length: 721, dtype: object"
      ]
     },
     "execution_count": 32,
     "metadata": {},
     "output_type": "execute_result"
    }
   ],
   "source": [
    "pokemon = pd.read_csv(\"datasets\\pokemon.csv\", usecols=[\"Pokemon\"]).squeeze()\n",
    "pokemon"
   ]
  },
  {
   "cell_type": "code",
   "execution_count": 34,
   "id": "5983a43c-44f3-400d-ac23-ea39c919b1b2",
   "metadata": {},
   "outputs": [
    {
     "data": {
      "text/plain": [
       "False"
      ]
     },
     "execution_count": 34,
     "metadata": {},
     "output_type": "execute_result"
    }
   ],
   "source": [
    "# check, # False bez, by default pandas check in index.\n",
    "\"Bulbasaur\" in pokemon"
   ]
  },
  {
   "cell_type": "code",
   "execution_count": 35,
   "id": "3522c7a6-b136-45c3-95bb-97817bf7bf5b",
   "metadata": {},
   "outputs": [
    {
     "data": {
      "text/plain": [
       "True"
      ]
     },
     "execution_count": 35,
     "metadata": {},
     "output_type": "execute_result"
    }
   ],
   "source": [
    "100 in pokemon"
   ]
  },
  {
   "cell_type": "code",
   "execution_count": 37,
   "id": "5b886698-41b0-4232-b577-44b4c2eb3a3c",
   "metadata": {},
   "outputs": [],
   "source": [
    "# .values will display all the list\n",
    "# pokemon.values"
   ]
  },
  {
   "cell_type": "code",
   "execution_count": 38,
   "id": "cfbed736-b9e7-45f5-85bf-718d12aa6790",
   "metadata": {},
   "outputs": [
    {
     "data": {
      "text/plain": [
       "True"
      ]
     },
     "execution_count": 38,
     "metadata": {},
     "output_type": "execute_result"
    }
   ],
   "source": [
    "\"Bulbasaur\" in pokemon.values"
   ]
  },
  {
   "cell_type": "markdown",
   "id": "6045a861-1e91-4c2f-92d1-8b5e12b0d411",
   "metadata": {},
   "source": [
    "### Extract Series Values by Index Position"
   ]
  },
  {
   "cell_type": "code",
   "execution_count": 40,
   "id": "99054e05-b129-4518-af45-4a552b26b4b3",
   "metadata": {},
   "outputs": [
    {
     "data": {
      "text/plain": [
       "0       Bulbasaur\n",
       "1         Ivysaur\n",
       "2        Venusaur\n",
       "3      Charmander\n",
       "4      Charmeleon\n",
       "          ...    \n",
       "716       Yveltal\n",
       "717       Zygarde\n",
       "718       Diancie\n",
       "719         Hoopa\n",
       "720     Volcanion\n",
       "Name: Pokemon, Length: 721, dtype: object"
      ]
     },
     "execution_count": 40,
     "metadata": {},
     "output_type": "execute_result"
    }
   ],
   "source": [
    "pokemon = pd.read_csv(\"datasets\\pokemon.csv\", usecols=[\"Pokemon\"]).squeeze()\n",
    "pokemon"
   ]
  },
  {
   "cell_type": "code",
   "execution_count": 42,
   "id": "bc9fbb80-19a1-4335-8a7d-c44febbe9730",
   "metadata": {},
   "outputs": [
    {
     "data": {
      "text/plain": [
       "'Bulbasaur'"
      ]
     },
     "execution_count": 42,
     "metadata": {},
     "output_type": "execute_result"
    }
   ],
   "source": [
    "pokemon[0]"
   ]
  },
  {
   "cell_type": "code",
   "execution_count": 43,
   "id": "37fd5d38-499c-49c7-8e8a-02d7cbca018c",
   "metadata": {},
   "outputs": [
    {
     "data": {
      "text/plain": [
       "100    Electrode\n",
       "200        Unown\n",
       "300     Delcatty\n",
       "Name: Pokemon, dtype: object"
      ]
     },
     "execution_count": 43,
     "metadata": {},
     "output_type": "execute_result"
    }
   ],
   "source": [
    "# Multiple value pull out\n",
    "pokemon[[100, 200, 300]]"
   ]
  },
  {
   "cell_type": "markdown",
   "id": "336772d2-7c0f-4f65-bd5c-9726b048dfc9",
   "metadata": {},
   "source": [
    "### Extract Series Values by Index Label"
   ]
  },
  {
   "cell_type": "code",
   "execution_count": 44,
   "id": "6135adf6-3364-49f5-b1e5-4d0debc88473",
   "metadata": {},
   "outputs": [
    {
     "data": {
      "text/plain": [
       "Pokemon\n",
       "Bulbasaur       Grass\n",
       "Ivysaur         Grass\n",
       "Venusaur        Grass\n",
       "Charmander       Fire\n",
       "Charmeleon       Fire\n",
       "               ...   \n",
       "Yveltal          Dark\n",
       "Zygarde        Dragon\n",
       "Diancie          Rock\n",
       "Hoopa         Psychic\n",
       "Volcanion        Fire\n",
       "Name: Type, Length: 721, dtype: object"
      ]
     },
     "execution_count": 44,
     "metadata": {},
     "output_type": "execute_result"
    }
   ],
   "source": [
    "pokemon = pd.read_csv(\"datasets\\pokemon.csv\", index_col=\"Pokemon\").squeeze()\n",
    "pokemon"
   ]
  },
  {
   "cell_type": "code",
   "execution_count": 47,
   "id": "a5010797-cd61-42f1-865a-b3c2c96f076a",
   "metadata": {},
   "outputs": [
    {
     "data": {
      "text/plain": [
       "'Grass'"
      ]
     },
     "execution_count": 47,
     "metadata": {},
     "output_type": "execute_result"
    }
   ],
   "source": [
    "pokemon[0] # will work"
   ]
  },
  {
   "cell_type": "code",
   "execution_count": 48,
   "id": "ff01fecc-2aa7-464f-b4d0-e7faa3a71544",
   "metadata": {},
   "outputs": [
    {
     "data": {
      "text/plain": [
       "'Grass'"
      ]
     },
     "execution_count": 48,
     "metadata": {},
     "output_type": "execute_result"
    }
   ],
   "source": [
    "pokemon[\"Bulbasaur\"]"
   ]
  },
  {
   "cell_type": "markdown",
   "id": "9c6ca52d-69ef-4017-8451-da7b02dff37c",
   "metadata": {},
   "source": [
    "### Get Method"
   ]
  },
  {
   "cell_type": "code",
   "execution_count": 49,
   "id": "f7ad3703-7eda-4a6a-a2ed-d770b29bf08d",
   "metadata": {},
   "outputs": [],
   "source": [
    "# get method is more efficient than [] method"
   ]
  },
  {
   "cell_type": "code",
   "execution_count": 51,
   "id": "fb01ba02-697e-4cca-a4ce-a10e7243fcbc",
   "metadata": {},
   "outputs": [
    {
     "data": {
      "text/plain": [
       "Pokemon\n",
       "Bulbasaur       Grass\n",
       "Ivysaur         Grass\n",
       "Venusaur        Grass\n",
       "Charmander       Fire\n",
       "Charmeleon       Fire\n",
       "               ...   \n",
       "Yveltal          Dark\n",
       "Zygarde        Dragon\n",
       "Diancie          Rock\n",
       "Hoopa         Psychic\n",
       "Volcanion        Fire\n",
       "Name: Type, Length: 721, dtype: object"
      ]
     },
     "execution_count": 51,
     "metadata": {},
     "output_type": "execute_result"
    }
   ],
   "source": [
    "pokemon = pd.read_csv(\"datasets\\pokemon.csv\", index_col=\"Pokemon\").squeeze()\n",
    "pokemon"
   ]
  },
  {
   "cell_type": "code",
   "execution_count": 52,
   "id": "5803298b-c58f-452a-a886-c69158e4cb02",
   "metadata": {},
   "outputs": [
    {
     "data": {
      "text/plain": [
       "'Grass'"
      ]
     },
     "execution_count": 52,
     "metadata": {},
     "output_type": "execute_result"
    }
   ],
   "source": [
    "pokemon.get(0)"
   ]
  },
  {
   "cell_type": "code",
   "execution_count": 54,
   "id": "5e51b99e-3b1c-4748-914b-588a0f90f2cb",
   "metadata": {},
   "outputs": [],
   "source": [
    "# pokemon[\"Sandeep\"]\n",
    "# displays error"
   ]
  },
  {
   "cell_type": "code",
   "execution_count": 57,
   "id": "fb7f3e01-ac50-4724-b305-3d71eafaddc1",
   "metadata": {},
   "outputs": [
    {
     "name": "stdout",
     "output_type": "stream",
     "text": [
      "None\n"
     ]
    }
   ],
   "source": [
    "print(pokemon.get(\"Sandeep\")) # donot display error"
   ]
  },
  {
   "cell_type": "code",
   "execution_count": 58,
   "id": "d8f046c8-49cb-446a-b0a2-936c187fa951",
   "metadata": {},
   "outputs": [
    {
     "data": {
      "text/plain": [
       "'Item Not Found'"
      ]
     },
     "execution_count": 58,
     "metadata": {},
     "output_type": "execute_result"
    }
   ],
   "source": [
    "# we can specify what to display if error occurs\n",
    "pokemon.get(\"Sandeep\", \"Item Not Found\")"
   ]
  },
  {
   "cell_type": "markdown",
   "id": "f34dc7fa-c5d3-4ff0-9078-b1ee3b2f442d",
   "metadata": {},
   "source": [
    "### Override Series Values"
   ]
  },
  {
   "cell_type": "code",
   "execution_count": 60,
   "id": "28f968bd-ff63-4756-b767-3607aed62e28",
   "metadata": {},
   "outputs": [
    {
     "data": {
      "text/plain": [
       "0       Bulbasaur\n",
       "1         Ivysaur\n",
       "2        Venusaur\n",
       "3      Charmander\n",
       "4      Charmeleon\n",
       "          ...    \n",
       "716       Yveltal\n",
       "717       Zygarde\n",
       "718       Diancie\n",
       "719         Hoopa\n",
       "720     Volcanion\n",
       "Name: Pokemon, Length: 721, dtype: object"
      ]
     },
     "execution_count": 60,
     "metadata": {},
     "output_type": "execute_result"
    }
   ],
   "source": [
    "pokemon = pd.read_csv(\"datasets\\pokemon.csv\", usecols=[\"Pokemon\"]).squeeze()\n",
    "pokemon"
   ]
  },
  {
   "cell_type": "code",
   "execution_count": 61,
   "id": "7f0ddbea-722c-431b-b040-5b42db2a761f",
   "metadata": {},
   "outputs": [],
   "source": [
    "# changing value\n",
    "pokemon[0] = 'Sandeep'"
   ]
  },
  {
   "cell_type": "code",
   "execution_count": 62,
   "id": "48877bb5-d6f4-45af-840c-1b33d055398e",
   "metadata": {},
   "outputs": [
    {
     "data": {
      "text/plain": [
       "0       Sandeep\n",
       "1       Ivysaur\n",
       "2      Venusaur\n",
       "3    Charmander\n",
       "4    Charmeleon\n",
       "Name: Pokemon, dtype: object"
      ]
     },
     "execution_count": 62,
     "metadata": {},
     "output_type": "execute_result"
    }
   ],
   "source": [
    "pokemon.head()"
   ]
  },
  {
   "cell_type": "code",
   "execution_count": 63,
   "id": "a1ee263f-c790-4eb3-9701-eec7f83f7c69",
   "metadata": {},
   "outputs": [],
   "source": [
    "# if we try to override the index values which do not exits then it will add\n",
    "pokemon[1500] = 'Sandy'"
   ]
  },
  {
   "cell_type": "code",
   "execution_count": 64,
   "id": "c9ac1f13-9d34-4467-8cb7-5d5cfa8354c6",
   "metadata": {},
   "outputs": [
    {
     "data": {
      "text/plain": [
       "717       Zygarde\n",
       "718       Diancie\n",
       "719         Hoopa\n",
       "720     Volcanion\n",
       "1500        Sandy\n",
       "Name: Pokemon, dtype: object"
      ]
     },
     "execution_count": 64,
     "metadata": {},
     "output_type": "execute_result"
    }
   ],
   "source": [
    "pokemon.tail()"
   ]
  },
  {
   "cell_type": "code",
   "execution_count": 65,
   "id": "1fa0e54d-c8cf-470a-8fcb-126719385953",
   "metadata": {},
   "outputs": [],
   "source": [
    "pokemon[[1,2,3]] = [\"Cherry\", \"Zozo\", \"Unnati\"]"
   ]
  },
  {
   "cell_type": "code",
   "execution_count": 66,
   "id": "0d81ec5b-a884-471c-87dd-2edf2863bab4",
   "metadata": {},
   "outputs": [
    {
     "data": {
      "text/plain": [
       "0       Sandeep\n",
       "1        Cherry\n",
       "2          Zozo\n",
       "3        Unnati\n",
       "4    Charmeleon\n",
       "Name: Pokemon, dtype: object"
      ]
     },
     "execution_count": 66,
     "metadata": {},
     "output_type": "execute_result"
    }
   ],
   "source": [
    "pokemon.head()"
   ]
  },
  {
   "cell_type": "markdown",
   "id": "0ffb4f9c-309f-4e92-8dd7-5503e409daca",
   "metadata": {},
   "source": [
    "### Copy method"
   ]
  },
  {
   "cell_type": "code",
   "execution_count": 67,
   "id": "7375aace-5c83-43eb-a3ee-c6b0108544d8",
   "metadata": {},
   "outputs": [],
   "source": [
    "pokemon_df = pd.read_csv(\"datasets\\pokemon.csv\", usecols=[\"Pokemon\"])\n",
    "pokemon_series = pokemon_df.squeeze().copy()"
   ]
  },
  {
   "cell_type": "markdown",
   "id": "0da7fc11-83cf-4da9-92c4-f4006c37812e",
   "metadata": {},
   "source": [
    "### Inplace parameter"
   ]
  },
  {
   "cell_type": "code",
   "execution_count": 81,
   "id": "de0cb63b-cc6a-4fbb-8e96-92a1ba0d1ec0",
   "metadata": {},
   "outputs": [],
   "source": [
    "google = (\n",
    "    pd.read_csv(\"datasets\\google_stock_price.csv\", usecols=[\"Stock Price\"])\n",
    "    .squeeze()\n",
    "    .copy()\n",
    ")"
   ]
  },
  {
   "cell_type": "code",
   "execution_count": 82,
   "id": "1be50f85-86f4-45f5-9b54-34be4453a768",
   "metadata": {},
   "outputs": [
    {
     "data": {
      "text/plain": [
       "0        50.12\n",
       "1        54.10\n",
       "2        54.65\n",
       "3        52.38\n",
       "4        52.95\n",
       "         ...  \n",
       "3007    772.88\n",
       "3008    771.07\n",
       "3009    773.18\n",
       "3010    771.61\n",
       "3011    782.22\n",
       "Name: Stock Price, Length: 3012, dtype: float64"
      ]
     },
     "execution_count": 82,
     "metadata": {},
     "output_type": "execute_result"
    }
   ],
   "source": [
    "google"
   ]
  },
  {
   "cell_type": "code",
   "execution_count": 85,
   "id": "34fd44d2-f1b1-489c-b554-332a890a2735",
   "metadata": {},
   "outputs": [
    {
     "data": {
      "text/plain": [
       "11       49.95\n",
       "9        50.07\n",
       "0        50.12\n",
       "10       50.70\n",
       "12       50.74\n",
       "         ...  \n",
       "3010    771.61\n",
       "3007    772.88\n",
       "3009    773.18\n",
       "2859    776.60\n",
       "3011    782.22\n",
       "Name: Stock Price, Length: 3012, dtype: float64"
      ]
     },
     "execution_count": 85,
     "metadata": {},
     "output_type": "execute_result"
    }
   ],
   "source": [
    "google = google.sort_values()\n",
    "google"
   ]
  },
  {
   "cell_type": "code",
   "execution_count": 87,
   "id": "8040d760-c6a2-442f-b4b1-00131d4dce90",
   "metadata": {},
   "outputs": [],
   "source": [
    "google.sort_values(inplace=True) # sort the series in place without assignment"
   ]
  },
  {
   "cell_type": "markdown",
   "id": "65921ba2-c44d-4ff2-96f8-0025a9fb15c0",
   "metadata": {},
   "source": [
    "### Math methods on Series"
   ]
  },
  {
   "cell_type": "code",
   "execution_count": 90,
   "id": "1fd32b7d-5c8c-41bd-9bf2-1240db9b2c7f",
   "metadata": {},
   "outputs": [
    {
     "data": {
      "text/plain": [
       "3012"
      ]
     },
     "execution_count": 90,
     "metadata": {},
     "output_type": "execute_result"
    }
   ],
   "source": [
    "google.count()"
   ]
  },
  {
   "cell_type": "code",
   "execution_count": 91,
   "id": "ba5c6fb5-2d0d-44a3-b768-7fb845ab38cd",
   "metadata": {},
   "outputs": [
    {
     "data": {
      "text/plain": [
       "1006942.0"
      ]
     },
     "execution_count": 91,
     "metadata": {},
     "output_type": "execute_result"
    }
   ],
   "source": [
    "google.sum()"
   ]
  },
  {
   "cell_type": "code",
   "execution_count": 92,
   "id": "20f48aca-c79d-4774-9de3-e7162f83acd3",
   "metadata": {},
   "outputs": [
    {
     "data": {
      "text/plain": [
       "334.3100929614874"
      ]
     },
     "execution_count": 92,
     "metadata": {},
     "output_type": "execute_result"
    }
   ],
   "source": [
    "google.mean()"
   ]
  },
  {
   "cell_type": "code",
   "execution_count": 93,
   "id": "2f933244-c368-47ce-9f86-85b4fe003bac",
   "metadata": {},
   "outputs": [
    {
     "data": {
      "text/plain": [
       "count    3012.000000\n",
       "mean      334.310093\n",
       "std       173.187205\n",
       "min        49.950000\n",
       "25%       218.045000\n",
       "50%       283.315000\n",
       "75%       443.000000\n",
       "max       782.220000\n",
       "Name: Stock Price, dtype: float64"
      ]
     },
     "execution_count": 93,
     "metadata": {},
     "output_type": "execute_result"
    }
   ],
   "source": [
    "google.describe()"
   ]
  },
  {
   "cell_type": "markdown",
   "id": "ae17988a-c04e-489c-998d-9d11ec2c8008",
   "metadata": {},
   "source": [
    "### Broadcasting"
   ]
  },
  {
   "cell_type": "code",
   "execution_count": 94,
   "id": "c5292e40-a1ce-488e-8c4a-130052ad3e20",
   "metadata": {},
   "outputs": [],
   "source": [
    "# Applying math operation to every values is broadcasting"
   ]
  },
  {
   "cell_type": "code",
   "execution_count": 97,
   "id": "6aceda3a-f7e1-4ea5-84f1-fc6e5b2ed1d5",
   "metadata": {},
   "outputs": [
    {
     "data": {
      "text/plain": [
       "11    49.95\n",
       "9     50.07\n",
       "0     50.12\n",
       "10    50.70\n",
       "12    50.74\n",
       "Name: Stock Price, dtype: float64"
      ]
     },
     "execution_count": 97,
     "metadata": {},
     "output_type": "execute_result"
    }
   ],
   "source": [
    "google.head()"
   ]
  },
  {
   "cell_type": "code",
   "execution_count": 98,
   "id": "382271dd-2ad3-4a84-a89d-31194b220f43",
   "metadata": {},
   "outputs": [
    {
     "data": {
      "text/plain": [
       "11       59.95\n",
       "9        60.07\n",
       "0        60.12\n",
       "10       60.70\n",
       "12       60.74\n",
       "         ...  \n",
       "3010    781.61\n",
       "3007    782.88\n",
       "3009    783.18\n",
       "2859    786.60\n",
       "3011    792.22\n",
       "Name: Stock Price, Length: 3012, dtype: float64"
      ]
     },
     "execution_count": 98,
     "metadata": {},
     "output_type": "execute_result"
    }
   ],
   "source": [
    "google + 10"
   ]
  },
  {
   "cell_type": "markdown",
   "id": "6953ce29-24ae-460a-b4ee-e12edff8cb57",
   "metadata": {},
   "source": [
    "### Value_count method"
   ]
  },
  {
   "cell_type": "code",
   "execution_count": 100,
   "id": "348365cc-8f74-4a82-b955-269e5b3a63ac",
   "metadata": {},
   "outputs": [
    {
     "data": {
      "text/plain": [
       "Pokemon\n",
       "Bulbasaur       Grass\n",
       "Ivysaur         Grass\n",
       "Venusaur        Grass\n",
       "Charmander       Fire\n",
       "Charmeleon       Fire\n",
       "               ...   \n",
       "Yveltal          Dark\n",
       "Zygarde        Dragon\n",
       "Diancie          Rock\n",
       "Hoopa         Psychic\n",
       "Volcanion        Fire\n",
       "Name: Type, Length: 721, dtype: object"
      ]
     },
     "execution_count": 100,
     "metadata": {},
     "output_type": "execute_result"
    }
   ],
   "source": [
    "pokemon = pd.read_csv(\"datasets\\pokemon.csv\", index_col=[\"Pokemon\"]).squeeze()\n",
    "pokemon"
   ]
  },
  {
   "cell_type": "code",
   "execution_count": 102,
   "id": "ba2e3012-2054-43bc-bdfc-6690b49f0cfc",
   "metadata": {},
   "outputs": [
    {
     "data": {
      "text/plain": [
       "Type\n",
       "Water       105\n",
       "Normal       93\n",
       "Grass        66\n",
       "Bug          63\n",
       "Fire         47\n",
       "Psychic      47\n",
       "Rock         41\n",
       "Electric     36\n",
       "Ground       30\n",
       "Poison       28\n",
       "Dark         28\n",
       "Fighting     25\n",
       "Dragon       24\n",
       "Ghost        23\n",
       "Ice          23\n",
       "Steel        22\n",
       "Fairy        17\n",
       "Flying        3\n",
       "Name: count, dtype: int64"
      ]
     },
     "execution_count": 102,
     "metadata": {},
     "output_type": "execute_result"
    }
   ],
   "source": [
    "pokemon.value_counts()"
   ]
  },
  {
   "cell_type": "markdown",
   "id": "ceda403d-25ef-4971-910d-f14120e1f38a",
   "metadata": {},
   "source": [
    "### apply method"
   ]
  },
  {
   "cell_type": "code",
   "execution_count": 103,
   "id": "b9c9ba97-4b8e-4a21-992e-33b07b9810c2",
   "metadata": {},
   "outputs": [],
   "source": [
    "# apply certain method to all the values of series"
   ]
  },
  {
   "cell_type": "code",
   "execution_count": 105,
   "id": "17f75776-adf2-47a6-b91d-5ee9ce1f7d12",
   "metadata": {},
   "outputs": [
    {
     "data": {
      "text/plain": [
       "Pokemon\n",
       "Bulbasaur     5\n",
       "Ivysaur       5\n",
       "Venusaur      5\n",
       "Charmander    4\n",
       "Charmeleon    4\n",
       "             ..\n",
       "Yveltal       4\n",
       "Zygarde       6\n",
       "Diancie       4\n",
       "Hoopa         7\n",
       "Volcanion     4\n",
       "Name: Type, Length: 721, dtype: int64"
      ]
     },
     "execution_count": 105,
     "metadata": {},
     "output_type": "execute_result"
    }
   ],
   "source": [
    "pokemon.apply(len) # return the count of values \"Grass\" -> 5"
   ]
  },
  {
   "cell_type": "code",
   "execution_count": 112,
   "id": "2f2991ba-7fb4-4552-8275-86c831d04339",
   "metadata": {},
   "outputs": [],
   "source": [
    "# Custom apply\n",
    "def my_custom_pokemon(pokemon_type):\n",
    "    if pokemon_type in [\"Grass\"]:\n",
    "        return \"Hahaha\"\n",
    "    else:\n",
    "        return pokemon_type"
   ]
  },
  {
   "cell_type": "code",
   "execution_count": 113,
   "id": "79ed292e-3bb0-4fb5-a63b-9d20ee6f3523",
   "metadata": {},
   "outputs": [
    {
     "data": {
      "text/plain": [
       "Pokemon\n",
       "Bulbasaur     Grass\n",
       "Ivysaur       Grass\n",
       "Venusaur      Grass\n",
       "Charmander     Fire\n",
       "Charmeleon     Fire\n",
       "Name: Type, dtype: object"
      ]
     },
     "execution_count": 113,
     "metadata": {},
     "output_type": "execute_result"
    }
   ],
   "source": [
    "pokemon.head()"
   ]
  },
  {
   "cell_type": "code",
   "execution_count": 116,
   "id": "93cfeb12-e5e0-4477-8263-a735daccd1a8",
   "metadata": {},
   "outputs": [
    {
     "data": {
      "text/plain": [
       "Pokemon\n",
       "Bulbasaur      Hahaha\n",
       "Ivysaur        Hahaha\n",
       "Venusaur       Hahaha\n",
       "Charmander       Fire\n",
       "Charmeleon       Fire\n",
       "               ...   \n",
       "Yveltal          Dark\n",
       "Zygarde        Dragon\n",
       "Diancie          Rock\n",
       "Hoopa         Psychic\n",
       "Volcanion        Fire\n",
       "Name: Type, Length: 721, dtype: object"
      ]
     },
     "execution_count": 116,
     "metadata": {},
     "output_type": "execute_result"
    }
   ],
   "source": [
    "pokemon.apply(my_custom_pokemon)"
   ]
  },
  {
   "cell_type": "markdown",
   "id": "d670d32d-988b-4557-aa32-24c4b7787df5",
   "metadata": {},
   "source": [
    "### Map method"
   ]
  },
  {
   "cell_type": "code",
   "execution_count": 117,
   "id": "efe9afd5-21ad-4fae-a97b-5eb3814dd49f",
   "metadata": {},
   "outputs": [
    {
     "data": {
      "text/plain": [
       "Pokemon\n",
       "Bulbasaur       Grass\n",
       "Ivysaur         Grass\n",
       "Venusaur        Grass\n",
       "Charmander       Fire\n",
       "Charmeleon       Fire\n",
       "               ...   \n",
       "Yveltal          Dark\n",
       "Zygarde        Dragon\n",
       "Diancie          Rock\n",
       "Hoopa         Psychic\n",
       "Volcanion        Fire\n",
       "Name: Type, Length: 721, dtype: object"
      ]
     },
     "execution_count": 117,
     "metadata": {},
     "output_type": "execute_result"
    }
   ],
   "source": [
    "pokemon = pd.read_csv(\"datasets\\pokemon.csv\", index_col=[\"Pokemon\"]).squeeze()\n",
    "pokemon"
   ]
  },
  {
   "cell_type": "code",
   "execution_count": 124,
   "id": "99ce3705-58a8-4793-b79c-598af701554e",
   "metadata": {},
   "outputs": [
    {
     "data": {
      "text/plain": [
       "Grass    New Grass\n",
       "Fire      Hot Fire\n",
       "dtype: object"
      ]
     },
     "execution_count": 124,
     "metadata": {},
     "output_type": "execute_result"
    }
   ],
   "source": [
    "mappings = {\n",
    "    \"Grass\": \"New Grass\",\n",
    "    \"Fire\": \"Hot Fire\",\n",
    "}\n",
    "mapping_series = pd.Series(mappings)\n",
    "mapping_series"
   ]
  },
  {
   "cell_type": "code",
   "execution_count": 125,
   "id": "33a42e53-c8e4-4587-a983-f0b19034e446",
   "metadata": {
    "scrolled": true
   },
   "outputs": [
    {
     "data": {
      "text/plain": [
       "Pokemon\n",
       "Bulbasaur     New Grass\n",
       "Ivysaur       New Grass\n",
       "Venusaur      New Grass\n",
       "Charmander     Hot Fire\n",
       "Charmeleon     Hot Fire\n",
       "                ...    \n",
       "Yveltal             NaN\n",
       "Zygarde             NaN\n",
       "Diancie             NaN\n",
       "Hoopa               NaN\n",
       "Volcanion      Hot Fire\n",
       "Name: Type, Length: 721, dtype: object"
      ]
     },
     "execution_count": 125,
     "metadata": {},
     "output_type": "execute_result"
    }
   ],
   "source": [
    "pokemon.map(mapping_series)"
   ]
  },
  {
   "cell_type": "code",
   "execution_count": null,
   "id": "4bcb79c7-d007-401d-b3e9-ae2b296dee92",
   "metadata": {},
   "outputs": [],
   "source": []
  }
 ],
 "metadata": {
  "kernelspec": {
   "display_name": "Python 3 (ipykernel)",
   "language": "python",
   "name": "python3"
  },
  "language_info": {
   "codemirror_mode": {
    "name": "ipython",
    "version": 3
   },
   "file_extension": ".py",
   "mimetype": "text/x-python",
   "name": "python",
   "nbconvert_exporter": "python",
   "pygments_lexer": "ipython3",
   "version": "3.11.4"
  }
 },
 "nbformat": 4,
 "nbformat_minor": 5
}
