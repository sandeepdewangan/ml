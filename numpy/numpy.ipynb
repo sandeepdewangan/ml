{
 "cells": [
  {
   "cell_type": "markdown",
   "id": "c129a078-768e-427c-9e51-f3cf1d17122c",
   "metadata": {},
   "source": [
    "# Numpy"
   ]
  },
  {
   "cell_type": "code",
   "execution_count": 2,
   "id": "45bd441b-69d6-43be-9d9b-b6b6a8aed703",
   "metadata": {},
   "outputs": [],
   "source": [
    "import numpy as np"
   ]
  },
  {
   "cell_type": "code",
   "execution_count": 3,
   "id": "a3d4d5df-cbfe-4aa4-9154-daad25361229",
   "metadata": {},
   "outputs": [],
   "source": [
    "# Declaring a numpy int array\n",
    "a = np.array([1,2,4,5])"
   ]
  },
  {
   "cell_type": "code",
   "execution_count": 4,
   "id": "6126a1bf-4ea2-44e5-9d8d-e326e0eb2759",
   "metadata": {},
   "outputs": [
    {
     "data": {
      "text/plain": [
       "numpy.ndarray"
      ]
     },
     "execution_count": 4,
     "metadata": {},
     "output_type": "execute_result"
    }
   ],
   "source": [
    "# Type of array\n",
    "type(a)"
   ]
  },
  {
   "cell_type": "code",
   "execution_count": 5,
   "id": "2708d564-ba49-4fdb-bb92-6221d33c0573",
   "metadata": {},
   "outputs": [
    {
     "data": {
      "text/plain": [
       "dtype('int32')"
      ]
     },
     "execution_count": 5,
     "metadata": {},
     "output_type": "execute_result"
    }
   ],
   "source": [
    "# Data type check\n",
    "a.dtype"
   ]
  },
  {
   "cell_type": "code",
   "execution_count": 6,
   "id": "798c6b29-fbe6-4d17-8ace-85e9213c5c7f",
   "metadata": {},
   "outputs": [
    {
     "data": {
      "text/plain": [
       "array([ 1, 10,  4,  5])"
      ]
     },
     "execution_count": 6,
     "metadata": {},
     "output_type": "execute_result"
    }
   ],
   "source": [
    "# Assisgnment\n",
    "a[1] = 10\n",
    "a"
   ]
  },
  {
   "cell_type": "code",
   "execution_count": 7,
   "id": "4d46a224-4baf-45af-8c09-8ab8c585f71d",
   "metadata": {},
   "outputs": [
    {
     "data": {
      "text/plain": [
       "1"
      ]
     },
     "execution_count": 7,
     "metadata": {},
     "output_type": "execute_result"
    }
   ],
   "source": [
    "# Checking dimensions\n",
    "a.ndim"
   ]
  },
  {
   "cell_type": "code",
   "execution_count": 8,
   "id": "56ca0ddb-5231-4f6b-a956-6d8929f110c2",
   "metadata": {},
   "outputs": [
    {
     "data": {
      "text/plain": [
       "(4,)"
      ]
     },
     "execution_count": 8,
     "metadata": {},
     "output_type": "execute_result"
    }
   ],
   "source": [
    "# Shape of an array\n",
    "a.shape"
   ]
  },
  {
   "cell_type": "code",
   "execution_count": 9,
   "id": "43adb4cd-6c1b-488c-aa1e-2cab13c1d7d7",
   "metadata": {},
   "outputs": [
    {
     "data": {
      "text/plain": [
       "array([3, 5, 7])"
      ]
     },
     "execution_count": 9,
     "metadata": {},
     "output_type": "execute_result"
    }
   ],
   "source": [
    "# Adding arrays\n",
    "a = np.array([1, 2, 3])\n",
    "b = np.array([2, 3, 4])\n",
    "a+b"
   ]
  },
  {
   "cell_type": "code",
   "execution_count": null,
   "id": "abeac5f8-fbfb-4d4d-8dda-328891c99a32",
   "metadata": {},
   "outputs": [],
   "source": [
    "# Vectorized opeation: how to write a single opeartion without a for loop.\n",
    "a * 10"
   ]
  },
  {
   "cell_type": "markdown",
   "id": "64af503f-dc0c-4d21-a3d6-3eb98980d8f8",
   "metadata": {},
   "source": [
    "# Universal Functions (ufuncs)"
   ]
  },
  {
   "cell_type": "code",
   "execution_count": 13,
   "id": "40268900-6cfc-4662-8b60-fe4e4c942251",
   "metadata": {},
   "outputs": [
    {
     "data": {
      "text/plain": [
       "array([0.84147098, 0.90929743, 0.14112001])"
      ]
     },
     "execution_count": 13,
     "metadata": {},
     "output_type": "execute_result"
    }
   ],
   "source": [
    "np.sin(a)"
   ]
  },
  {
   "cell_type": "code",
   "execution_count": 17,
   "id": "f10c230d-9569-4ee9-b827-8d122ac49e5a",
   "metadata": {},
   "outputs": [
    {
     "data": {
      "text/plain": [
       "array([-3, -3, -3])"
      ]
     },
     "execution_count": 17,
     "metadata": {},
     "output_type": "execute_result"
    }
   ],
   "source": [
    "# Fill - fill the array with all same value\n",
    "a.fill(-3)\n",
    "a"
   ]
  },
  {
   "cell_type": "code",
   "execution_count": 18,
   "id": "a17f9047-2c8d-482d-93c2-d87b23ee1171",
   "metadata": {},
   "outputs": [],
   "source": [
    "# Two dimensional array"
   ]
  },
  {
   "cell_type": "code",
   "execution_count": 19,
   "id": "45f468ee-fbca-4994-81b8-f2bac85ece43",
   "metadata": {},
   "outputs": [],
   "source": [
    "a = np.array([[1,2,3], [5,6,7]])"
   ]
  },
  {
   "cell_type": "code",
   "execution_count": 21,
   "id": "6bd15df8-2bba-4368-afdc-b6df8bc2cde4",
   "metadata": {},
   "outputs": [
    {
     "data": {
      "text/plain": [
       "(2, 3)"
      ]
     },
     "execution_count": 21,
     "metadata": {},
     "output_type": "execute_result"
    }
   ],
   "source": [
    "a.shape"
   ]
  },
  {
   "cell_type": "code",
   "execution_count": 22,
   "id": "57232e5c-26eb-48c7-9ce0-9685cb4c2763",
   "metadata": {},
   "outputs": [
    {
     "data": {
      "text/plain": [
       "6"
      ]
     },
     "execution_count": 22,
     "metadata": {},
     "output_type": "execute_result"
    }
   ],
   "source": [
    "a.size"
   ]
  },
  {
   "cell_type": "code",
   "execution_count": 23,
   "id": "42b7c310-4ab0-4333-9726-794fb12a4c42",
   "metadata": {},
   "outputs": [
    {
     "data": {
      "text/plain": [
       "2"
      ]
     },
     "execution_count": 23,
     "metadata": {},
     "output_type": "execute_result"
    }
   ],
   "source": [
    "a.ndim"
   ]
  },
  {
   "cell_type": "code",
   "execution_count": 25,
   "id": "ab55527f-9356-42ec-8cb1-a3979b82c4c9",
   "metadata": {},
   "outputs": [
    {
     "data": {
      "text/plain": [
       "array([5, 6, 7])"
      ]
     },
     "execution_count": 25,
     "metadata": {},
     "output_type": "execute_result"
    }
   ],
   "source": [
    "a[1] # displays all 2nd row"
   ]
  },
  {
   "cell_type": "code",
   "execution_count": 26,
   "id": "04e38ac5-170a-4591-992f-1dff109161b8",
   "metadata": {},
   "outputs": [],
   "source": [
    "# Slicing"
   ]
  },
  {
   "cell_type": "code",
   "execution_count": 33,
   "id": "d935ba35-92a5-4024-9ea4-1b9bf0b32b90",
   "metadata": {},
   "outputs": [
    {
     "data": {
      "text/plain": [
       "array([10, 11, 12, 13, 14])"
      ]
     },
     "execution_count": 33,
     "metadata": {},
     "output_type": "execute_result"
    }
   ],
   "source": [
    "a = np.array([10,11,12,13,14])\n",
    "a"
   ]
  },
  {
   "cell_type": "code",
   "execution_count": 35,
   "id": "b9925b89-9bfc-4f3f-915c-03657110fef9",
   "metadata": {},
   "outputs": [
    {
     "data": {
      "text/plain": [
       "array([10])"
      ]
     },
     "execution_count": 35,
     "metadata": {},
     "output_type": "execute_result"
    }
   ],
   "source": [
    "a[0:1] # last index is excluded"
   ]
  },
  {
   "cell_type": "code",
   "execution_count": 39,
   "id": "60da645f-6807-4159-a641-6c57a15be6b0",
   "metadata": {},
   "outputs": [
    {
     "data": {
      "text/plain": [
       "array([12, 13, 14])"
      ]
     },
     "execution_count": 39,
     "metadata": {},
     "output_type": "execute_result"
    }
   ],
   "source": [
    "a[2:]"
   ]
  },
  {
   "cell_type": "code",
   "execution_count": 41,
   "id": "74721032-ee7e-4d3c-8cda-12ae3b6afc5a",
   "metadata": {},
   "outputs": [],
   "source": [
    "# Omitting indices"
   ]
  },
  {
   "cell_type": "code",
   "execution_count": 42,
   "id": "c6fb2cb7-c29e-4190-a6e6-5976dfc5c384",
   "metadata": {},
   "outputs": [
    {
     "data": {
      "text/plain": [
       "array([10, 11, 12])"
      ]
     },
     "execution_count": 42,
     "metadata": {},
     "output_type": "execute_result"
    }
   ],
   "source": [
    "# grab first three elements\n",
    "a[:3]"
   ]
  },
  {
   "cell_type": "code",
   "execution_count": 43,
   "id": "d8bab10e-dca0-4cc4-aa75-54b25f21d6bb",
   "metadata": {},
   "outputs": [
    {
     "data": {
      "text/plain": [
       "array([13, 14])"
      ]
     },
     "execution_count": 43,
     "metadata": {},
     "output_type": "execute_result"
    }
   ],
   "source": [
    "# grab last two elements\n",
    "a[-2:]"
   ]
  },
  {
   "cell_type": "code",
   "execution_count": 50,
   "id": "87f7a830-9872-4d42-b10e-76e164d38185",
   "metadata": {},
   "outputs": [
    {
     "data": {
      "text/plain": [
       "array([10, 12, 14])"
      ]
     },
     "execution_count": 50,
     "metadata": {},
     "output_type": "execute_result"
    }
   ],
   "source": [
    "# pick every other ele, skipping\n",
    "a[0::2] # get every 2nd element starting at position 0"
   ]
  },
  {
   "attachments": {
    "e0637ecd-04af-47c3-8e19-d1a24abb049d.png": {
     "image/png": "[encoded data removed]"
    }
   },
   "cell_type": "markdown",
   "id": "2d389f22-3daf-439b-b320-560f471e7ebd",
   "metadata": {},
   "source": [
    "# Exercise\n",
    "![ex1.png](attachment:e0637ecd-04af-47c3-8e19-d1a24abb049d.png)\n"
   ]
  },
  {
   "cell_type": "code",
   "execution_count": 53,
   "id": "25b770d9-7c5c-462b-8c83-59e3ccb9fa0e",
   "metadata": {},
   "outputs": [],
   "source": [
    "a = np.array([\n",
    "    [0,1,2,3,4,5],\n",
    "    [10,11,12,13,14,15],\n",
    "    [20,21,22,23,24,25],\n",
    "    [30,31,32,33,34,35],\n",
    "    [40,41,42,43,44,45],\n",
    "    [50,51,52,53,54,55]\n",
    "])"
   ]
  },
  {
   "cell_type": "code",
   "execution_count": 56,
   "id": "7fbeb6d3-acce-4bef-9811-dcc774acdccc",
   "metadata": {},
   "outputs": [
    {
     "data": {
      "text/plain": [
       "array([3, 4])"
      ]
     },
     "execution_count": 56,
     "metadata": {},
     "output_type": "execute_result"
    }
   ],
   "source": [
    "# yellow\n",
    "a[0, 3:5]"
   ]
  },
  {
   "cell_type": "code",
   "execution_count": 57,
   "id": "05674562-a725-499d-8d83-8c19b423285f",
   "metadata": {},
   "outputs": [
    {
     "data": {
      "text/plain": [
       "array([[44, 45],\n",
       "       [54, 55]])"
      ]
     },
     "execution_count": 57,
     "metadata": {},
     "output_type": "execute_result"
    }
   ],
   "source": [
    "# blue\n",
    "a[4:,4:]"
   ]
  },
  {
   "cell_type": "code",
   "execution_count": 59,
   "id": "9085a0ed-e47e-4976-8c44-eab295c2eefd",
   "metadata": {},
   "outputs": [
    {
     "data": {
      "text/plain": [
       "array([ 2, 12, 22, 32, 42, 52])"
      ]
     },
     "execution_count": 59,
     "metadata": {},
     "output_type": "execute_result"
    }
   ],
   "source": [
    "# red\n",
    "a[:, 2]"
   ]
  },
  {
   "cell_type": "code",
   "execution_count": 60,
   "id": "28e7b2fb-8f1d-4808-b111-772b91bb56c6",
   "metadata": {},
   "outputs": [
    {
     "data": {
      "text/plain": [
       "array([[20, 22, 24],\n",
       "       [40, 42, 44]])"
      ]
     },
     "execution_count": 60,
     "metadata": {},
     "output_type": "execute_result"
    }
   ],
   "source": [
    "# strided blue\n",
    "a[2::2, 0::2]"
   ]
  },
  {
   "cell_type": "code",
   "execution_count": 64,
   "id": "07fe902e-2644-46c8-8b8d-4b6b8e9cad69",
   "metadata": {},
   "outputs": [
    {
     "data": {
      "text/plain": [
       "array([ 0,  1,  2,  3,  4,  5,  6,  7,  8,  9, 10, 11, 12, 13, 14, 15, 16,\n",
       "       17, 18, 19, 20, 21, 22, 23, 24])"
      ]
     },
     "execution_count": 64,
     "metadata": {},
     "output_type": "execute_result"
    }
   ],
   "source": [
    "# Creating a array with values\n",
    "a = np.arange(25) # creates range of values from 0 to 24\n",
    "a"
   ]
  },
  {
   "cell_type": "code",
   "execution_count": 74,
   "id": "880e5689-8923-46e1-9038-b0b14ad3b209",
   "metadata": {},
   "outputs": [],
   "source": [
    "# then reshape it to form an array\n",
    "a = a.reshape(5,5)"
   ]
  },
  {
   "cell_type": "code",
   "execution_count": 78,
   "id": "45ffa1b0-af59-4b61-bdff-1577070e6a47",
   "metadata": {},
   "outputs": [
    {
     "data": {
      "text/plain": [
       "(5, 5)"
      ]
     },
     "execution_count": 78,
     "metadata": {},
     "output_type": "execute_result"
    }
   ],
   "source": [
    "a.shape"
   ]
  },
  {
   "cell_type": "code",
   "execution_count": 79,
   "id": "ad120283-b352-459f-a1fb-47a1e2c4d650",
   "metadata": {},
   "outputs": [],
   "source": [
    "# Create a copy of data"
   ]
  },
  {
   "cell_type": "code",
   "execution_count": 80,
   "id": "8e1fac96-f524-49db-bd2f-bf3a969928cb",
   "metadata": {},
   "outputs": [],
   "source": [
    "b = a.copy()"
   ]
  },
  {
   "cell_type": "code",
   "execution_count": 82,
   "id": "cf29a74d-d365-4935-83b8-a260f01deb9b",
   "metadata": {},
   "outputs": [],
   "source": [
    "# Fancy Indexing"
   ]
  },
  {
   "cell_type": "code",
   "execution_count": 83,
   "id": "2fb60b30-16b2-4704-ba45-dc18aecbe65c",
   "metadata": {},
   "outputs": [],
   "source": [
    "# Indexing by positions"
   ]
  },
  {
   "cell_type": "code",
   "execution_count": 84,
   "id": "aaba4bee-fe0d-4e18-84d7-54876e4d55f1",
   "metadata": {},
   "outputs": [
    {
     "data": {
      "text/plain": [
       "array([ 0, 10, 20, 30, 40, 50, 60, 70])"
      ]
     },
     "execution_count": 84,
     "metadata": {},
     "output_type": "execute_result"
    }
   ],
   "source": [
    "a = np.arange(0,80,10)\n",
    "a"
   ]
  },
  {
   "cell_type": "code",
   "execution_count": 85,
   "id": "038f398f-e0db-4b21-92cb-8b1beaa7a55b",
   "metadata": {},
   "outputs": [
    {
     "data": {
      "text/plain": [
       "array([10, 20, 50])"
      ]
     },
     "execution_count": 85,
     "metadata": {},
     "output_type": "execute_result"
    }
   ],
   "source": [
    "indices = [1, 2, -3]\n",
    "y = a[indices]\n",
    "y"
   ]
  },
  {
   "cell_type": "code",
   "execution_count": 86,
   "id": "532a8c8f-6aac-4e8d-8258-b02b8777d54b",
   "metadata": {},
   "outputs": [],
   "source": [
    "# Indexing with booleans"
   ]
  },
  {
   "cell_type": "code",
   "execution_count": 88,
   "id": "04a30ce7-f06b-4b66-9af7-07b4466062de",
   "metadata": {},
   "outputs": [
    {
     "data": {
      "text/plain": [
       "array([10, 20, 50])"
      ]
     },
     "execution_count": 88,
     "metadata": {},
     "output_type": "execute_result"
    }
   ],
   "source": [
    "mask = np.array([0,1,1,0,0,1,0,0], dtype=bool)\n",
    "y = a[mask] # if true keep the data\n",
    "y"
   ]
  },
  {
   "cell_type": "code",
   "execution_count": 89,
   "id": "8082adba-9a98-4476-9283-2af7f73fe61d",
   "metadata": {},
   "outputs": [],
   "source": [
    "# Eg. mask"
   ]
  },
  {
   "cell_type": "code",
   "execution_count": 90,
   "id": "ea57cbb6-14e7-4db0-9d73-beb18cce6f72",
   "metadata": {},
   "outputs": [],
   "source": [
    "a = np.array([1, 2, -3, -4, 33, 4, 5, -7, -7])"
   ]
  },
  {
   "cell_type": "code",
   "execution_count": 91,
   "id": "56a2b0e4-b8c8-4871-bf0f-3797fbf5e265",
   "metadata": {},
   "outputs": [
    {
     "data": {
      "text/plain": [
       "array([False, False,  True,  True, False, False, False,  True,  True])"
      ]
     },
     "execution_count": 91,
     "metadata": {},
     "output_type": "execute_result"
    }
   ],
   "source": [
    "a < 0 "
   ]
  },
  {
   "cell_type": "code",
   "execution_count": 92,
   "id": "356b6847-cf56-4712-8d8c-49155e05da4a",
   "metadata": {},
   "outputs": [],
   "source": [
    "negative_mask = a < 0"
   ]
  },
  {
   "cell_type": "code",
   "execution_count": 93,
   "id": "74daaf2b-4454-420b-82bb-153c8d8b89c2",
   "metadata": {},
   "outputs": [
    {
     "data": {
      "text/plain": [
       "array([-3, -4, -7, -7])"
      ]
     },
     "execution_count": 93,
     "metadata": {},
     "output_type": "execute_result"
    }
   ],
   "source": [
    "a[negative_mask] # get all negative number"
   ]
  },
  {
   "cell_type": "code",
   "execution_count": 95,
   "id": "33c3deb1-1bf5-4ce8-ae87-26e32dc3241a",
   "metadata": {},
   "outputs": [
    {
     "data": {
      "text/plain": [
       "array([ 1,  2,  0,  0, 33,  4,  5,  0,  0])"
      ]
     },
     "execution_count": 95,
     "metadata": {},
     "output_type": "execute_result"
    }
   ],
   "source": [
    "a[negative_mask] = 0 # sets all neg numbers to 0\n",
    "a"
   ]
  },
  {
   "attachments": {
    "386c805e-3936-4746-a9d7-193865bf6e94.PNG": {
     "image/png": "[encoded data removed]"
    }
   },
   "cell_type": "markdown",
   "id": "ec5bbd3c-7052-4877-8576-2cd65a43a388",
   "metadata": {},
   "source": [
    "# Fancy Indexing\n",
    "\n",
    "![ex2.PNG](attachment:386c805e-3936-4746-a9d7-193865bf6e94.PNG)"
   ]
  },
  {
   "cell_type": "code",
   "execution_count": 97,
   "id": "2fd5e471-2526-46aa-91e4-b087d1d830ae",
   "metadata": {},
   "outputs": [
    {
     "data": {
      "text/plain": [
       "array([[ 0,  1,  2,  3,  4,  5],\n",
       "       [ 6,  7,  8,  9, 10, 11],\n",
       "       [12, 13, 14, 15, 16, 17],\n",
       "       [18, 19, 20, 21, 22, 23],\n",
       "       [24, 25, 26, 27, 28, 29],\n",
       "       [30, 31, 32, 33, 34, 35]])"
      ]
     },
     "execution_count": 97,
     "metadata": {},
     "output_type": "execute_result"
    }
   ],
   "source": [
    "a = np.arange(0,36).reshape(6,6)\n",
    "a"
   ]
  },
  {
   "cell_type": "code",
   "execution_count": 99,
   "id": "d75f17de-f56d-4fb7-8a3a-1ecb16df7af7",
   "metadata": {},
   "outputs": [
    {
     "data": {
      "text/plain": [
       "array([[18, 20, 23],\n",
       "       [24, 26, 29],\n",
       "       [30, 32, 35]])"
      ]
     },
     "execution_count": 99,
     "metadata": {},
     "output_type": "execute_result"
    }
   ],
   "source": [
    "# Get 18,24,30 and 20,26,32 and 23,29,35 data\n",
    "a[3:, [0, 2, 5]]"
   ]
  },
  {
   "attachments": {
    "0cbbf1cc-2504-426d-b225-34e84f6baa24.PNG": {
     "image/png": "[encoded data removed]"
    }
   },
   "cell_type": "markdown",
   "id": "0237a1e5-ae4e-4161-abcb-2104cee0c5a4",
   "metadata": {},
   "source": [
    "# Multidimensional Array\n",
    "![ex3.PNG](attachment:0cbbf1cc-2504-426d-b225-34e84f6baa24.PNG)"
   ]
  },
  {
   "cell_type": "code",
   "execution_count": 102,
   "id": "06a1466d-971f-4052-87b0-8d0e0eebb1b0",
   "metadata": {},
   "outputs": [],
   "source": [
    "# Computation with Arrays, RULES\n",
    "# 1. Shape should match.\n",
    "# 2. Mathematicals operations element by element.\n",
    "# 3. Reduction operations (means, std, skew, sum) apply to whole array, unless axis is specified.\n",
    "# 4. Missing values propagate unless ignored. (nan + 1 = nan)"
   ]
  },
  {
   "cell_type": "markdown",
   "id": "77d38cd0-ad7a-49cf-8d77-34d89acf6b7b",
   "metadata": {},
   "source": [
    "# Broadcasting array"
   ]
  },
  {
   "attachments": {
    "bbe5bc48-4088-4bd5-9759-da5b4b819e57.PNG": {
     "image/png": "[encoded data removed]"
    }
   },
   "cell_type": "markdown",
   "id": "3145c7ec-3dfc-428f-8429-7d073659363f",
   "metadata": {},
   "source": [
    "![ex4.PNG](attachment:bbe5bc48-4088-4bd5-9759-da5b4b819e57.PNG)"
   ]
  },
  {
   "cell_type": "code",
   "execution_count": 103,
   "id": "10c618ee-a0fe-4846-9a95-f7ad743fc7ec",
   "metadata": {},
   "outputs": [],
   "source": [
    "# Sum"
   ]
  },
  {
   "cell_type": "code",
   "execution_count": 104,
   "id": "13e8e091-d56a-40cd-a51d-93f5cf29bb9a",
   "metadata": {},
   "outputs": [
    {
     "data": {
      "text/plain": [
       "array([[1, 2, 3],\n",
       "       [3, 4, 5]])"
      ]
     },
     "execution_count": 104,
     "metadata": {},
     "output_type": "execute_result"
    }
   ],
   "source": [
    "a = np.array([[1,2,3], [3,4,5]])\n",
    "a"
   ]
  },
  {
   "cell_type": "code",
   "execution_count": 105,
   "id": "377cf530-d2d2-4e48-9a9c-cde6328d4a73",
   "metadata": {},
   "outputs": [
    {
     "data": {
      "text/plain": [
       "18"
      ]
     },
     "execution_count": 105,
     "metadata": {},
     "output_type": "execute_result"
    }
   ],
   "source": [
    "a.sum()"
   ]
  },
  {
   "cell_type": "code",
   "execution_count": 107,
   "id": "6b533689-9883-418f-a9b4-3a1d5cbd27d5",
   "metadata": {},
   "outputs": [
    {
     "data": {
      "text/plain": [
       "array([4, 6, 8])"
      ]
     },
     "execution_count": 107,
     "metadata": {},
     "output_type": "execute_result"
    }
   ],
   "source": [
    "# col or row wise sum\n",
    "a.sum(axis=0)"
   ]
  },
  {
   "cell_type": "code",
   "execution_count": 108,
   "id": "9d961b90-49e3-4013-9f33-e11675d3cfc2",
   "metadata": {},
   "outputs": [
    {
     "data": {
      "text/plain": [
       "array([ 6, 12])"
      ]
     },
     "execution_count": 108,
     "metadata": {},
     "output_type": "execute_result"
    }
   ],
   "source": [
    "a.sum(axis=1)"
   ]
  },
  {
   "cell_type": "code",
   "execution_count": null,
   "id": "ecb589b5-5d2d-419a-bebd-1035ceba4606",
   "metadata": {},
   "outputs": [],
   "source": []
  }
 ],
 "metadata": {
  "kernelspec": {
   "display_name": "Python 3 (ipykernel)",
   "language": "python",
   "name": "python3"
  },
  "language_info": {
   "codemirror_mode": {
    "name": "ipython",
    "version": 3
   },
   "file_extension": ".py",
   "mimetype": "text/x-python",
   "name": "python",
   "nbconvert_exporter": "python",
   "pygments_lexer": "ipython3",
   "version": "3.11.4"
  }
 },
 "nbformat": 4,
 "nbformat_minor": 5
}
